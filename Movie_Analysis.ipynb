{
  "nbformat": 4,
  "nbformat_minor": 0,
  "metadata": {
    "anaconda-cloud": {},
    "kernelspec": {
      "display_name": "Python [conda root]",
      "language": "python",
      "name": "conda-root-py"
    },
    "language_info": {
      "codemirror_mode": {
        "name": "ipython",
        "version": 3
      },
      "file_extension": ".py",
      "mimetype": "text/x-python",
      "name": "python",
      "nbconvert_exporter": "python",
      "pygments_lexer": "ipython3",
      "version": "3.5.2"
    },
    "colab": {
      "name": "Movie_Analysis.ipynb",
      "provenance": [],
      "collapsed_sections": []
    }
  },
  "cells": [
    {
      "cell_type": "code",
      "metadata": {
        "id": "wjp7pm1BVfNe",
        "colab": {
          "base_uri": "https://localhost:8080/"
        },
        "outputId": "9cc3005d-2abb-42c2-f8cc-8a45d22eef0a"
      },
      "source": [
        "%pylab inline\n",
        "import warnings\n",
        "warnings.filterwarnings('ignore')"
      ],
      "execution_count": null,
      "outputs": [
        {
          "output_type": "stream",
          "text": [
            "Populating the interactive namespace from numpy and matplotlib\n"
          ],
          "name": "stdout"
        }
      ]
    },
    {
      "cell_type": "code",
      "metadata": {
        "id": "-rVwJUNIVfNk"
      },
      "source": [
        "from sklearn.datasets import load_files\n",
        "from sklearn.model_selection import train_test_split"
      ],
      "execution_count": null,
      "outputs": []
    },
    {
      "cell_type": "code",
      "metadata": {
        "id": "Cil5lI9fVfNn"
      },
      "source": [
        "from sklearn.model_selection import GridSearchCV\n",
        "from sklearn.metrics import accuracy_score, f1_score "
      ],
      "execution_count": null,
      "outputs": []
    },
    {
      "cell_type": "code",
      "metadata": {
        "id": "HQhG5h3RVfNp"
      },
      "source": [
        "import cloudpickle as cp\n",
        "from urllib.request import urlopen\n",
        "dataset = cp.load(urlopen(\"https://drive.google.com/uc?export=download&id=1tqjekAEy_SM_sJUvjIBbajp6I-_WmHgj\"))"
      ],
      "execution_count": null,
      "outputs": []
    },
    {
      "cell_type": "code",
      "metadata": {
        "id": "mEbdEgPN_C78",
        "colab": {
          "base_uri": "https://localhost:8080/"
        },
        "outputId": "cd6695e8-9035-4c1e-bca6-004cd2e7a20d"
      },
      "source": [
        "print(len(dataset.target))\n",
        "print(dataset.data[220])"
      ],
      "execution_count": null,
      "outputs": [
        {
          "output_type": "stream",
          "text": [
            "2000\n",
            "at the outset of swordfish , john travolta's gabriel shear is pontificating about the status of american cinema today . \n",
            "basically , he says , it boils down to a lack of imagination among the majority of writers . \n",
            "how ironic , as travolta seems to be describing his latest venture . \n",
            "swordfish is loud , violent and amoral . \n",
            "it has the audacity to justify murder and mayhem in the name of sustaining our way of life . \n",
            "and how does travolta's gabriel plan to do this ? \n",
            "by robbing billions from his own government and using the funds to out-terrorize terrorists . \n",
            "swordfish is a very cynical movie . \n",
            "it relies on an audience's perception of our leaders as ineffectual and duplicitous and on terrorists as non-human , faceless entities not worthy of compassion or consideration . \n",
            "the movie's plot is preposterous with enough illogical leaps that if the film ever slowed down , you'd actually see how ridiculous it all is . \n",
            "this is a live-action road runner cartoon , moving so quickly that it's over before you can catch your breath to ask any reasonable questions . \n",
            "the storyline revolves around super hacker stanley jobson ( hugh jackman ) , recruited by gabriel to crack the government's computer codes so gabriel can gather billions for his anti-terrorist campaign . \n",
            "talk about whacked-out patriotism . \n",
            "my objections to swordfish are many . \n",
            "the body count is high , but that is expected in a movie of this sort . \n",
            "it's becoming a bore watching anonymous soldiers , police officers and government agents blown to bits . \n",
            "another example is the family dynamics between stanley , his 10-year-old daughter and his ex-wife . \n",
            "stanley , though having served time in prison for hacking , is shown as a loving and caring father , forbidden by his ex to see his little girl . \n",
            "audience animosity is immediately created for his former spouse by showing her as a drinker and smoker who also sometimes stars in her new husband's adult films . \n",
            "thus when she is found murdered late in the movie , neither stanley nor his daughter are allowed any time to grieve . \n",
            "in fact , subconsciously , many in the audience are probably glad she was killed . \n",
            "then there is the sequence involving one of gabriel's henchman holding a gun to the head of stanley's daughter to coerce the hacker to download the key computer program for gabriel . \n",
            "children as pawns have become a most unwelcome clich ? in recent films . \n",
            "there is enough violence in the real world involving children without having to make them on-screen victims as well . \n",
            "yea , it's only make believe , but that doesn't mean you have to tolerate it . \n",
            "travolta is cool , deadly charming and flamboyant as the near-crazy gabriel . \n",
            "his character is reminiscent of his villainous characterizations in broken arrow and face/off . \n",
            "jackman looks dour through most of the proceedings . \n",
            "his only moment of any depth comes when he finally is able to create the worm to get inside the government database . \n",
            "his sense of joy and accomplishment is one any computer whiz can appreciate . \n",
            "halle berry is decorative and lovely as gabriel's assistant , while don cheadle is given little to do as the head fbi agent hunting gabriel . \n",
            "swordfish plays like a comic book with a larger-than-life character in gabriel . \n",
            "viewers align themselves with him despite their uncertainty if he is hero or villain . \n",
            "and maybe that is the movie's underlying flaw : there is no real hero to speak of , only those doing their upmost to survive . \n",
            "and that is not enough . \n",
            "this is one swordfish that should have been thrown back in the water . \n",
            "\n"
          ],
          "name": "stdout"
        }
      ]
    },
    {
      "cell_type": "code",
      "metadata": {
        "id": "vQf0Umd_VfNs"
      },
      "source": [
        "docs_train, docs_test, y_train, y_test = train_test_split(dataset.data, dataset.target, test_size=0.25, random_state=123)"
      ],
      "execution_count": null,
      "outputs": []
    },
    {
      "cell_type": "code",
      "metadata": {
        "id": "K2s1QIU9VfNv"
      },
      "source": [
        "#TfidfVectorizer\n",
        "from sklearn.feature_extraction.text import TfidfVectorizer\n",
        "tf = TfidfVectorizer()\n",
        "docs_train = tf.fit_transform(docs_train)\n",
        "\n",
        "docs_test = tf.transform(docs_test)"
      ],
      "execution_count": null,
      "outputs": []
    },
    {
      "cell_type": "code",
      "metadata": {
        "id": "VztOGBXaVfN0",
        "colab": {
          "base_uri": "https://localhost:8080/"
        },
        "outputId": "c3be9a46-541d-48c4-89cf-49d436a32070"
      },
      "source": [
        "#SVC model\n",
        "from sklearn.svm import SVC\n",
        "from sklearn.metrics import accuracy_score\n",
        "scores = []\n",
        "for c in [0.01, 0.1, 1, 10]:\n",
        "    model = SVC(kernel = 'rbf', C=c)\n",
        "    model.fit(docs_train, y_train)\n",
        "\n",
        "    y_pred = model.predict(docs_test)\n",
        "    score = accuracy_score(y_test, y_pred)\n",
        "    scores.append(score)\n",
        "print(scores)"
      ],
      "execution_count": null,
      "outputs": [
        {
          "output_type": "stream",
          "text": [
            "[0.492, 0.492, 0.818, 0.828]\n"
          ],
          "name": "stdout"
        }
      ]
    },
    {
      "cell_type": "code",
      "metadata": {
        "id": "9IL6TBpDVfN3",
        "colab": {
          "base_uri": "https://localhost:8080/"
        },
        "outputId": "788bafcf-46c4-426b-980c-e948c62ea8c9"
      },
      "source": [
        "#Naive Bayes\n",
        "from sklearn.naive_bayes import MultinomialNB\n",
        "clf = MultinomialNB()\n",
        "clf.fit(docs_train, y_train)\n",
        "y_pred = clf.predict(docs_test)\n",
        "score = accuracy_score(y_test, y_pred)\n",
        "print('MultinomialNB: ' + str(score))"
      ],
      "execution_count": null,
      "outputs": [
        {
          "output_type": "stream",
          "text": [
            "MultinomialNB: 0.8\n"
          ],
          "name": "stdout"
        }
      ]
    },
    {
      "cell_type": "code",
      "metadata": {
        "id": "JEm4w2GwVfN5",
        "colab": {
          "base_uri": "https://localhost:8080/"
        },
        "outputId": "d5b2b713-874b-4434-bb4d-5c6f1b79ae05"
      },
      "source": [
        "#Random forest model\n",
        "from sklearn.ensemble import RandomForestClassifier\n",
        "scores = []\n",
        "for c in [20, 100, 500]:\n",
        "    clf = RandomForestClassifier(n_estimators = c)    \n",
        "    clf.fit(docs_train, y_train)    \n",
        "    y_pred = clf.predict(docs_test)\n",
        "    score = accuracy_score(y_test, y_pred)\n",
        "    scores.append(score)\n",
        "print(scores)"
      ],
      "execution_count": null,
      "outputs": [
        {
          "output_type": "stream",
          "text": [
            "[0.738, 0.758, 0.784]\n"
          ],
          "name": "stdout"
        }
      ]
    }
  ]
}